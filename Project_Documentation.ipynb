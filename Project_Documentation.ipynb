{
 "cells": [
  {
   "cell_type": "markdown",
   "id": "a1de1e8a",
   "metadata": {},
   "source": [
    "# ***Project Document***\n",
    "\n"
   ]
  },
  {
   "cell_type": "markdown",
   "id": "7771848f",
   "metadata": {},
   "source": [
    "#### *Complex societal issue/need within the school: Does excessive gaming negatively affect young people's (13-18 years old) performance in specfic areas of learning?*\n",
    "\n",
    "##### Hypothesis: Excessive gaming does negatively affect a young person's performance in specific areas in learning, but leaves other areas unaffected\n",
    "\n",
    "---\n",
    "> #### PROJECT REQUIREMENTS\n",
    "> - The program should be concise and readable, don't overwhelm the audience with several different values all at once\n",
    "> - The program should have options for navigation, to show specific data, and related groups of data\n",
    "> - The data should be presented in a way that makes sense to the viewer, your audience wants to understand what data is being shown\n",
    "> - The User interface shouuld be asthetically pleasing, no horrible gradients, I don't want people getting a headache looking at a bar graph or a pie chart\n",
    "---\n",
    "\n",
    "#### Research And Planning\n",
    "The effects of gaming on health are wide and \n"
   ]
  }
 ],
 "metadata": {
  "language_info": {
   "name": "python"
  }
 },
 "nbformat": 4,
 "nbformat_minor": 5
}

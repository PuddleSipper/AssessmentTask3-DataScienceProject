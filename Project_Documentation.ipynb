{
 "cells": [
  {
   "cell_type": "markdown",
   "id": "a1de1e8a",
   "metadata": {},
   "source": [
    "# ***Project Document***\n",
    "\n"
   ]
  },
  {
   "cell_type": "markdown",
   "id": "7771848f",
   "metadata": {},
   "source": [
    "#### *Complex societal issue/need within the school: Does excessive gaming negatively affect young people's (13-18 years old) performance in specfic areas of learning?*\n",
    "\n",
    "##### Hypothesis: Excessive screentime does negatively affect a young person's performance in specific areas in learning, but leaves other areas unaffected.\n",
    "\n",
    "---\n",
    "> #### PROJECT REQUIREMENTS\n",
    "> - The program should be concise and readable, don't overwhelm the audience with several different values all at once\n",
    "> - The program should have options for navigation, to show specific data, and related groups of data\n",
    "> - The data should be presented in a way that makes sense to the viewer, your audience wants to understand what data is being shown\n",
    "> - The User interface shouuld be asthetically pleasing, no horrible gradients, I don't want people getting a headache looking at a bar graph or a pie chart\n",
    "---\n",
    "\n",
    "#### Research And Planning\n",
    "The effects of screentime on health are wide and many, and a lot of the time are negative and lead to disruptions in your performance. There are the obvious things, such as being linked to increased obesity levels and multiple health issues stemming further from that. Gaming also accounts for screentime and can lead to joint pain and carpel tunnel from prolonged exposure. There are postive medical benefits from gaming as well, such as improving balance control in people with degenerative diseases and helping people with ADHD to improve learning and thinking skills.  There are a variety of different issues that stem from just excessive screentime as well, such as sleep and anxiety issues. These can further lead to stress, reduced cognitive function and memory issues. What this all means is that excessive screentime creates negative impacts to your motor and cognitive skills, therefore making you perform worse.\n",
    "\n",
    "With the data I'm collecting, I'm looking specifically for anxiety and sleep issues, as well as the average screen time on platforms and screentime from age groups.\n",
    "---\n",
    "\n",
    "#### Production and Implementing\n",
    "All of my production and Implementing was done in \"data_project.py\" and \"data_module.py\"\n",
    "\n",
    "---\n",
    "\n",
    "#### Testing and Evaluation\n",
    "Excessive screentime does negatively affect teens cognitive abilities, and there is some overlap with being constantly online and have sleep issues, with sleeps issues being at a 48% and \"constantly online-ness\" being at a 42%. What this tells us is that being constantly online may not necessarily create sleep issues, but people who are constantly online are more likely to have sleep issues. Sleep is also directly related to brain function, and higher sleep issues constitute to lesser cognitive function. We also see phone anxiety more frequently in those who are constantly online.\n",
    "\n",
    "I'd like to see more about what areas are positively affected or what isn't affected at all by excessive gaming if there are any, as this would help with my hypothesis.\n",
    "\n",
    "In conclusion, excessive screentime does affect teens in negative ways, but what positive effects it has are still inconclusive, and I need to do more research in order to answer that.\n",
    "\n",
    "I've tested all the algorithms as well and they works relatively fine, maybe not to the degree I had hoped for, but the good this is that it works. There may be a small error when it comes to finding specific rows of data with high values.\n",
    "\n",
    "I don't think my program got to do everything I wanted it to do, but it works pretty much fine. It also succeeded in 3 of my 4 success criteria in my opinion. My efforts in project management also weren't the greatest, and I can definitely improve on a multitude of factors, such as note taking and time management, perhaps through use of gantt charts or note taking strategies. My code also didn't achieve the most potential it could due to this, and I could definitely make a much better user interface if I had taken the time to learn TKinter. Data security and user experience shouldn't be that bad, though I have no real way of testing security. User experience on the other hand shouldn't be too difficult. The options are pretty easy and simple to navigate through and should be easy to understand.\n",
    "\n",
    "That's all I have left to say about this project, and it has been immensely interesting analysing all these datasets. In future, I'd like to see some more information about screentime, as with the coming years, screentime has been increasing as more and more people get access to things like social media and browsing.\n",
    "\n"
   ]
  }
 ],
 "metadata": {
  "language_info": {
   "name": "python"
  }
 },
 "nbformat": 4,
 "nbformat_minor": 5
}
